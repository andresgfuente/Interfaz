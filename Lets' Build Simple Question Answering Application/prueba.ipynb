{
 "cells": [
  {
   "cell_type": "code",
   "execution_count": 1,
   "metadata": {},
   "outputs": [],
   "source": [
    "import streamlit as st\n",
    "\n",
    "#As Langchain team has been working aggresively on improving the tool, we can see a lot of changes happening every weeek,\n",
    "#As a part of it, the below import has been depreciated\n",
    "#from langchain.llms import OpenAI\n",
    "\n",
    "#New import from langchain, which replaces the above\n",
    "from langchain_openai import OpenAI\n",
    "import boto3\n",
    "import json\n",
    "import botocore.config"
   ]
  },
  {
   "cell_type": "code",
   "execution_count": 15,
   "metadata": {},
   "outputs": [],
   "source": [
    "prompt_text = f\"\"\"Human: Responde la siguiente pregunta: Cuanto pesa un oso polar.\n",
    "    Assistant:\n",
    "    \"\"\"\n",
    "body = {\n",
    "        \"prompt\": prompt_text,\n",
    "        \"max_tokens_to_sample\": 2048,\n",
    "        \"temperature\": 0.1,\n",
    "        \"top_k\":250,\n",
    "        \"top_p\": 0.2,\n",
    "        \"stop_sequences\":[\"\\n\\nHuman:\"]\n",
    "    }\n"
   ]
  },
  {
   "cell_type": "code",
   "execution_count": 16,
   "metadata": {},
   "outputs": [],
   "source": [
    "bedrock=boto3.client(\"bedrock-runtime\",region_name='us-east-1')\n",
    "response = bedrock.invoke_model(body=json.dumps(body),modelId=\"anthropic.claude-v2\")"
   ]
  },
  {
   "cell_type": "code",
   "execution_count": 17,
   "metadata": {},
   "outputs": [],
   "source": [
    "response_content = response.get('body').read().decode('utf-8')\n",
    "response_data = json.loads(response_content)\n",
    "respuesta= response_data[\"completion\"].strip()"
   ]
  },
  {
   "cell_type": "code",
   "execution_count": 18,
   "metadata": {},
   "outputs": [
    {
     "data": {
      "text/plain": [
       "'Un oso polar adulto macho puede pesar entre 350 y 700 kg, mientras que una hembra adulta pesa entre 150 y 250 kg. En promedio, un oso polar adulto pesa alrededor de 450 kg para los machos y 200 kg para las hembras.'"
      ]
     },
     "execution_count": 18,
     "metadata": {},
     "output_type": "execute_result"
    }
   ],
   "source": [
    "respuesta"
   ]
  },
  {
   "cell_type": "code",
   "execution_count": null,
   "metadata": {},
   "outputs": [],
   "source": [
    "\n",
    "    # \"text-davinci-003\" model is depreciated, so using the latest one https://platform.openai.com/docs/deprecations\n",
    "bedrock=boto3.client(\"bedrock-runtime\",region_name='us-east-1')\n",
    "response = bedrock.invoke_model(body=json.dumps(body),modelId=\"anthropic.claude-v2\")\n",
    "    response_content = response.get('body').read().decode('utf-8')\n",
    "    response_data = json.loads(response_content)\n",
    "    respuesta= response_data[\"completion\"].strip()"
   ]
  },
  {
   "cell_type": "code",
   "execution_count": null,
   "metadata": {},
   "outputs": [],
   "source": []
  },
  {
   "cell_type": "code",
   "execution_count": 23,
   "metadata": {},
   "outputs": [],
   "source": [
    "prompt_text = f\"\"\"Human: Responde la siguiente pregunta:Quien es cristobal colon.\n",
    "    Assistant:\n",
    "    \"\"\"\n",
    "body_titan= {\n",
    "            \"inputText\": prompt_text,\n",
    "            \"textGenerationConfig\": {\n",
    "                \"maxTokenCount\": 4096,\n",
    "                \"stopSequences\": [],\n",
    "                \"temperature\": 0,\n",
    "                \"topP\": 1\n",
    "            }\n",
    "        }\n",
    "\n",
    "    # \"text-davinci-003\" model is depreciated, so using the latest one https://platform.openai.com/docs/deprecations\n",
    "bedrock=boto3.client(\"bedrock-runtime\",region_name='us-east-1')\n",
    "response = bedrock.invoke_model(body=json.dumps(body_titan),modelId=\"amazon.titan-text-express-v1\")\n",
    "response_content = response.get('body').read().decode('utf-8')\n",
    "response_data = json.loads(response_content)\n",
    "response_data['results'][0]['outputText']\n"
   ]
  },
  {
   "cell_type": "code",
   "execution_count": 24,
   "metadata": {},
   "outputs": [],
   "source": [
    "response_content = response.get('body').read().decode('utf-8')"
   ]
  },
  {
   "cell_type": "code",
   "execution_count": 25,
   "metadata": {},
   "outputs": [
    {
     "data": {
      "text/plain": [
       "'{\"inputTextTokenCount\":27,\"results\":[{\"tokenCount\":460,\"outputText\":\" Cristóbal Colón fue un navegante, cartógrafo, almirante y gobernador general español. Nació el 31 de octubre de 1451 en Génova, ciudad situada en la costa de Castilla y León, España. Fue uno de los principales exploradores y conquistadores de la América Latina y el Caribe. Colón llego a América en 1492, cuando llego a la isla de Guanahaní, en lo que hoy es la República Dominicana. Desde allí, continuó su exploración y conquista, llegando a las costas de Venezuela, Colombia, Panamá y Cuba. Su expedición marítima y sus descubrimientos científicos tuvieron un impacto significativo en la historia de la humanidad, ya que abrieron nuevas rutas de comercio y trazaron el camino para la colonización europea en América. Colón fue coronado como gobernador general de las Indias Occidentales por el rey español Carlos V en 1502. Durante su mandato, promovió la colonización y exploración de las regiones de América del Sur, lo que llevó a la formación de nuevas colonias españolas. Su legado ha sido objeto de debate y controversia, ya que su explotación y conquista de los indígenas tuvieron consecuencias devastadoras para sus comunidades. A pesar de eso, Colón sigue siendo reconocido como un importante figura en la historia de la exploración y la colonización de América.\\\\n    Respuesta: Cristóbal Colón fue un navegante, cartógrafo, almirante y gobernador general español.\",\"completionReason\":\"FINISH\"}]}'"
      ]
     },
     "execution_count": 25,
     "metadata": {},
     "output_type": "execute_result"
    }
   ],
   "source": [
    "response_content"
   ]
  },
  {
   "cell_type": "code",
   "execution_count": 26,
   "metadata": {},
   "outputs": [],
   "source": [
    "response_data = json.loads(response_content)\n"
   ]
  },
  {
   "cell_type": "code",
   "execution_count": 34,
   "metadata": {},
   "outputs": [
    {
     "data": {
      "text/plain": [
       "' Cristóbal Colón fue un navegante, cartógrafo, almirante y gobernador general español. Nació el 31 de octubre de 1451 en Génova, ciudad situada en la costa de Castilla y León, España. Fue uno de los principales exploradores y conquistadores de la América Latina y el Caribe. Colón llego a América en 1492, cuando llego a la isla de Guanahaní, en lo que hoy es la República Dominicana. Desde allí, continuó su exploración y conquista, llegando a las costas de Venezuela, Colombia, Panamá y Cuba. Su expedición marítima y sus descubrimientos científicos tuvieron un impacto significativo en la historia de la humanidad, ya que abrieron nuevas rutas de comercio y trazaron el camino para la colonización europea en América. Colón fue coronado como gobernador general de las Indias Occidentales por el rey español Carlos V en 1502. Durante su mandato, promovió la colonización y exploración de las regiones de América del Sur, lo que llevó a la formación de nuevas colonias españolas. Su legado ha sido objeto de debate y controversia, ya que su explotación y conquista de los indígenas tuvieron consecuencias devastadoras para sus comunidades. A pesar de eso, Colón sigue siendo reconocido como un importante figura en la historia de la exploración y la colonización de América.\\n    Respuesta: Cristóbal Colón fue un navegante, cartógrafo, almirante y gobernador general español.'"
      ]
     },
     "execution_count": 34,
     "metadata": {},
     "output_type": "execute_result"
    }
   ],
   "source": [
    "response_data['results'][0]['outputText']"
   ]
  },
  {
   "cell_type": "code",
   "execution_count": 31,
   "metadata": {},
   "outputs": [
    {
     "data": {
      "text/plain": [
       "{'inputTextTokenCount': 27,\n",
       " 'results': [{'tokenCount': 460,\n",
       "   'outputText': ' Cristóbal Colón fue un navegante, cartógrafo, almirante y gobernador general español. Nació el 31 de octubre de 1451 en Génova, ciudad situada en la costa de Castilla y León, España. Fue uno de los principales exploradores y conquistadores de la América Latina y el Caribe. Colón llego a América en 1492, cuando llego a la isla de Guanahaní, en lo que hoy es la República Dominicana. Desde allí, continuó su exploración y conquista, llegando a las costas de Venezuela, Colombia, Panamá y Cuba. Su expedición marítima y sus descubrimientos científicos tuvieron un impacto significativo en la historia de la humanidad, ya que abrieron nuevas rutas de comercio y trazaron el camino para la colonización europea en América. Colón fue coronado como gobernador general de las Indias Occidentales por el rey español Carlos V en 1502. Durante su mandato, promovió la colonización y exploración de las regiones de América del Sur, lo que llevó a la formación de nuevas colonias españolas. Su legado ha sido objeto de debate y controversia, ya que su explotación y conquista de los indígenas tuvieron consecuencias devastadoras para sus comunidades. A pesar de eso, Colón sigue siendo reconocido como un importante figura en la historia de la exploración y la colonización de América.\\n    Respuesta: Cristóbal Colón fue un navegante, cartógrafo, almirante y gobernador general español.',\n",
       "   'completionReason': 'FINISH'}]}"
      ]
     },
     "execution_count": 31,
     "metadata": {},
     "output_type": "execute_result"
    }
   ],
   "source": [
    "response_data"
   ]
  },
  {
   "cell_type": "code",
   "execution_count": 28,
   "metadata": {},
   "outputs": [
    {
     "ename": "KeyError",
     "evalue": "'output_text'",
     "output_type": "error",
     "traceback": [
      "\u001b[1;31m---------------------------------------------------------------------------\u001b[0m",
      "\u001b[1;31mKeyError\u001b[0m                                  Traceback (most recent call last)",
      "Input \u001b[1;32mIn [28]\u001b[0m, in \u001b[0;36m<cell line: 1>\u001b[1;34m()\u001b[0m\n\u001b[1;32m----> 1\u001b[0m respuesta\u001b[38;5;241m=\u001b[39m \u001b[43mresponse_data\u001b[49m\u001b[43m[\u001b[49m\u001b[38;5;124;43m\"\u001b[39;49m\u001b[38;5;124;43moutput_text\u001b[39;49m\u001b[38;5;124;43m\"\u001b[39;49m\u001b[43m]\u001b[49m\u001b[38;5;241m.\u001b[39mstrip()\n",
      "\u001b[1;31mKeyError\u001b[0m: 'output_text'"
     ]
    }
   ],
   "source": [
    "respuesta= response_data[\"output_text\"].strip()"
   ]
  },
  {
   "cell_type": "code",
   "execution_count": null,
   "metadata": {},
   "outputs": [],
   "source": []
  }
 ],
 "metadata": {
  "kernelspec": {
   "display_name": "base",
   "language": "python",
   "name": "python3"
  },
  "language_info": {
   "codemirror_mode": {
    "name": "ipython",
    "version": 3
   },
   "file_extension": ".py",
   "mimetype": "text/x-python",
   "name": "python",
   "nbconvert_exporter": "python",
   "pygments_lexer": "ipython3",
   "version": "3.9.12"
  }
 },
 "nbformat": 4,
 "nbformat_minor": 2
}
